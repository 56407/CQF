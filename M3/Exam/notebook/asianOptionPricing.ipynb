{
 "cells": [
  {
   "cell_type": "markdown",
   "metadata": {},
   "source": [
    "# Mote Carlo Asian Option Pricing"
   ]
  },
  {
   "cell_type": "code",
   "execution_count": null,
   "metadata": {},
   "outputs": [],
   "source": [
    "print test"
   ]
  },
  {
   "cell_type": "markdown",
   "metadata": {},
   "source": [
    "## Continuous vs Discrete Sampling\n",
    "\n",
    "For practical and legal reasons path-dependent quantities are\n",
    "never measured continuously.\n",
    "\n",
    "There is minimum time step between sampling of the pathdependent quantity, since from a practical viewpoint it is difficult to incorporate every single traded price into an average, for example, data can be unreliable and the exact time of a trade may not be known accurately\n",
    "\n",
    "Within the context of MC, we define the following:\n",
    "\n",
    "--- put here of evolution of AC pricing vs number of time steps for continuous and discrete case"
   ]
  },
  {
   "cell_type": "code",
   "execution_count": null,
   "metadata": {},
   "outputs": [],
   "source": [
    ""
   ]
  }
 ],
 "metadata": {},
 "nbformat": 4,
 "nbformat_minor": 0
}
{
 "cells": [
  {
   "cell_type": "markdown",
   "metadata": {
    "collapsed": true
   },
   "source": [
    "# Module 5 Exam Answers"
   ]
  },
  {
   "cell_type": "markdown",
   "metadata": {},
   "source": [
    "# Q1 - Structural Models"
   ]
  },
  {
   "cell_type": "markdown",
   "metadata": {},
   "source": [
    "## Part (a)\n",
    "\n",
    "* Workings can be found in file **Q1\\_structural\\_models.xlsm** attached to the portal\n",
    "\n",
    "\n",
    "* Models constant parameters:\n",
    "    * $D = K = 5$ (Merton's notional or Black-Cox threshold)\n",
    "    * $T = 1$ (maturity)\n",
    "    * $r = 2\\%$ (ris-free rate)\n",
    "    \n",
    "\n",
    "* For Merton's model Excel's Solver was used by setting $E_0 = 3$ as objective variable and changing the values of $V_0$ and $\\sigma_V$ with constrains $\\sigma_E E_0 = N(d_1) \\sigma_V V_0$, using the \"GRG Nonlinear\" algorithm, yielding the following result for $\\sigma_E = 50 \\%$ and using the analytical result for $d_1$, $d_2$, $N(d_1)$, $N(d_2)$ and $E_0$\n",
    "\n",
    "\n",
    "| vol_E |   V_0  |   vol_V  |\n",
    "|:-----:|:------:|:--------:|\n",
    "|  50%  | 7.8986 | 19.0804% |"
   ]
  },
  {
   "cell_type": "markdown",
   "metadata": {},
   "source": [
    "## Part (b)\n",
    "\n",
    "* To compare the sensitivity of the default probability (PD) for both Merton and Black-Cox against $\\sigma_E$, both models were ran for different $\\sigma_E$ and $D = K = 5$. The workings can be found also in **Q1\\_structural\\_models.xlsm**\n",
    "\n",
    "* The resulting plot of PD vs $\\sigma_E$ is shown below, where we see the difference becomes negligible as $\\sigma_E \\to 0$, so both models approximately agree for $\\sigma_E \\lesssim 50 \\%$. Then as $\\sigma_E \\to 1$, they appear to diverge exponentially. This is likely due to a different term structure of the hazard rate $\\lambda$\n",
    "\n",
    "* See excel workings for more details and VBA macro \"loop_solver\""
   ]
  },
  {
   "cell_type": "markdown",
   "metadata": {},
   "source": [
    "![title](figs/pd_merton_vs_bc.PNG)"
   ]
  },
  {
   "cell_type": "markdown",
   "metadata": {},
   "source": [
    "# Q2 - Credit Curve"
   ]
  },
  {
   "cell_type": "markdown",
   "metadata": {},
   "source": [
    "All the  workings can be found in the file **Q3\\_credit\\_curve.xlsx\"** attached to the portal\n",
    "\n",
    "## Part 1 - CDS pricing from hazard rate and DF data\n",
    "\n",
    "* The workings can be found in the tab _part 1_ in the file above\n",
    "\n",
    "* Constant parameters in model:\n",
    "    * $\\Delta t=0.25$ (quarterly increments)\n",
    "    * $N=1$ (notional)\n",
    "    * $R=40\\%$ (recovery rate), hence LGD $L = (1-R)$\n",
    "    \n",
    "* Quarter interpolation from yearly data provided:\n",
    "    * Discount factors  using log-linear interpolation (same formula as given on exam)\n",
    "    * Hazard rates $\\lambda$    using linear interpolation (same formula as given on exam)\n",
    "    \n",
    "* The cummulative survival probability $P(0, T)$ calculated using formula:\n",
    "\n",
    "$$\n",
    "P(0, T) = \\exp{-\\sum^T_{t=1} \\lambda_t \\Delta t}\n",
    "$$\n",
    "\n",
    "from this, the period probability of default (PD) was calculated\n",
    "\n",
    "* The 'premium leg' (PL) was calculated as in the formula from the notes, as well as the contribution to it from accruals. The 'default leg' (DL) was also calculated as per the formula in the notes\n",
    "\n",
    "* Excel's Solver was then used to calculate the spread on the assumption of a flat spread across all tenors, conditioned on the MTM = 0, i.e. PL = DL\n",
    "\n",
    "* This resulted in a spread of $92.1368~bps$, see workings\n",
    "\n"
   ]
  },
  {
   "cell_type": "markdown",
   "metadata": {},
   "source": [
    "## Part 2 - Bootstrapping Survival Probabilities\n",
    "\n",
    "* The workings can be found in the tab _part 2 & 3_ in the file above\n",
    "\n",
    "* The cumulative survival probability 'PrSurv' was bootstrapped from CDS yearly spread data using the formula in the lecture notes, for yearly tenors up to 5 years. This required:\n",
    "    * CDS spreads: given for yearly increments up to 5Y tenor\n",
    "    * Discount factors: approximated using continuous time formula $\\exp(-rT_i)$ with $r=0.8%$ for each tenor\n",
    "    * Loss given default: $L = 1- R = 60\\%$\n",
    "\n",
    "* From PrSurv, the cumulative and period default probabilities were calculated. The results are shown below\n"
   ]
  },
  {
   "cell_type": "markdown",
   "metadata": {},
   "source": [
    "| TIME   (Years) |    PD    |  PD_cum  |   P_cum   |\n",
    "|----------------|:--------:|:--------:|:---------:|\n",
    "| 0.0            | 0.00000% |  0.0000% | 100.0000% |\n",
    "| 1.0            | 2.30813% |  2.3081% |  97.6919% |\n",
    "| 2.0            | 2.99713% |  5.3053% |  94.6947% |\n",
    "| 3.0            | 3.61525% |  8.9205% |  91.0795% |\n",
    "| 4.0            | 3.91269% | 12.8332% |  87.1668% |\n",
    "| 5.0            | 3.73397% | 16.5672% |  83.4328% |"
   ]
  },
  {
   "cell_type": "markdown",
   "metadata": {},
   "source": [
    "![](figs/cum_pd_psurv.PNG)"
   ]
  },
  {
   "cell_type": "markdown",
   "metadata": {},
   "source": [
    "## Par 3 - Term Structure of Hazard Rates\n",
    "\n",
    "* The workings can be found in the tab _part 2 & 3_ in the file above\n",
    "\n",
    "* From PsSurv $P(0, T)$, the hazard rates can be calculated using the formula:\n",
    "\n",
    "$$\n",
    "\\lambda_m = - \\frac{1}{\\Delta t} \\ln \\frac{P(0, t_m)}{P(0, t_{m-1})}\n",
    "$$\n",
    "\n",
    "The result is shown below - see excel workings"
   ]
  },
  {
   "cell_type": "markdown",
   "metadata": {},
   "source": [
    "| TIME   (Years) |  Lambda  |\n",
    "|:--------------:|:--------:|\n",
    "|       0.0      |  -        |\n",
    "|       1.0      | 2.33519% |\n",
    "|       2.0      | 3.11599% |\n",
    "|       3.0      | 3.89258% |\n",
    "|       4.0      | 4.39091% |\n",
    "|       5.0      | 4.37817% |"
   ]
  },
  {
   "cell_type": "markdown",
   "metadata": {},
   "source": [
    "![](figs/hazard_rates.PNG)"
   ]
  },
  {
   "cell_type": "markdown",
   "metadata": {},
   "source": [
    "* Plotting the exponential pdf  $f(t) = \\lambda e^{-\\lambda t}$ for piecewise constant lambda the below plot is obtained. We note the instability at every tenor change, where we see 'jumps' instead of a smooth continous function. In theory each tenor period will have it's own f(t) but given we only get the hazard rate for a given period, we see this reflected as well"
   ]
  },
  {
   "cell_type": "markdown",
   "metadata": {},
   "source": [
    "![](figs/pdf.PNG)"
   ]
  }
 ],
 "metadata": {
  "kernelspec": {
   "display_name": "Python 2",
   "language": "python",
   "name": "python2"
  },
  "language_info": {
   "codemirror_mode": {
    "name": "ipython",
    "version": 2
   },
   "file_extension": ".py",
   "mimetype": "text/x-python",
   "name": "python",
   "nbconvert_exporter": "python",
   "pygments_lexer": "ipython2",
   "version": "2.7.12"
  }
 },
 "nbformat": 4,
 "nbformat_minor": 0
}

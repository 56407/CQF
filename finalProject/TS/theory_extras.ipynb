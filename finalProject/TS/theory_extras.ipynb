{
 "cells": [
  {
   "cell_type": "markdown",
   "metadata": {},
   "source": [
    "# Intro"
   ]
  },
  {
   "cell_type": "markdown",
   "metadata": {},
   "source": [
    "* price levels non-stationary\n",
    "* can't use correlation unless on returns or diffs\n",
    "* equilibrium (spread) can also be non-linear --> collinearity\n",
    "* coint vector $\\beta_{coint}$\n",
    "\n"
   ]
  },
  {
   "cell_type": "markdown",
   "metadata": {},
   "source": [
    "# Multivariate Regression \n",
    "\n",
    "Also known as 'generalised linear model', it is a regression on multiple predictor variables (regressors). It  is best expressed in matrix form:\n",
    "\n",
    "$$\n",
    "Y = X \\beta + \\epsilon\n",
    "$$\n",
    "\n",
    "where $\\beta$ is the coefficients vector and $\\epsilon$ the residuals vector. \n",
    "\n",
    "The OLS method (which minimizes the sum of squared residuals) can be used to estimate the parameters:\n",
    "\n",
    "$$\n",
    "\\begin{align}\n",
    "\\hat{\\beta} = (X^\\prime X)^{-1} X^\\prime Y \\\\\n",
    "\\hat{\\epsilon} = Y - X \\hat{\\beta}\n",
    "\\end{align}\n",
    "$$\n",
    "\n",
    "\n",
    "We want to model a $T \\times K$  time series $Y$, where $T$ denotes the number of observations and $K$ the number of variables.\n",
    "\n",
    "\n",
    "* Construct special matrices - the dependent ($Y$), explanatory ($Z$),  residuals ($\\epsilon$) and coefficient ($B$) matrices ($K \\times K$):\n",
    "\n",
    "$$\n",
    "Y = BZ + \\epsilon\n",
    "$$\n",
    "\n",
    "* Generalising the OLS method to the multivariate case (MLE of the multivariate Normal Log Likelihood function) results in:\n",
    "\n",
    "$$\n",
    "\\begin{align}\n",
    "\\hat{B} = Y Z^\\prime (Z Z^\\prime)^{-1} \\\\\n",
    "\\hat{\\epsilon} = Y - \\hat{B} Z\n",
    "\\end{align}\n",
    "$$\n",
    "\n",
    "* The residual covariance matrix is also generalised to:\n",
    "$$\n",
    "\\hat{\\Sigma} = \\frac{1}{T} \\sum^T_{t=1} \\hat{\\epsilon} \\hat{\\epsilon}^\\prime\n",
    "$$\n",
    "\n",
    "The main application of the multivariate regression is for Vector Autoregression  (VAR(p)) to model returns which are stationary and Error Correction Model (ECM) to model prices which aren't stationary. Below the two are summarised."
   ]
  },
  {
   "cell_type": "markdown",
   "metadata": {
    "collapsed": true
   },
   "source": [
    "## Vector Autoregression (VAR(p))"
   ]
  },
  {
   "cell_type": "markdown",
   "metadata": {},
   "source": [
    "Also referred to as VAR(p) where p is the lag order, the is simply a multivariate regression on a time series and its lagged (past) values:\n",
    "\n",
    "$$\n",
    "\\begin{align}\n",
    "Y_t = C + \\beta_1 Y_{t-1} + \\dots + \\beta_{p}Y_{t-p} + \\epsilon_t \\\\\n",
    "\\epsilon_t \\sim Normal(0, \\Sigma_\\epsilon)\n",
    "\\end{align}\n",
    "$$\n",
    "\n",
    "$Y_t$ is an $n \\times 1$ column vector and $\\beta_p$ is an $n \\times n$ matrix of coefficients. This VAR system can be estimated in one go by using OLS with special matrix formulation.\n",
    "\n",
    "Each of the $Y_t$ vector elements can be estimated using the ordinary least squares (OLS) method. Computationally, this can be done in one go for all elements using matrix manipulation. Example code on how to contruct the above can be found in script XXXX.py in the Appendix.\n",
    "\n",
    "Note that VAR(p) models assume the lagged series are stationary. Non-stationary or trending data can often be transformed to stationary by first-differencing or some other method. For direct analysis of non-stationary series this isn't appropriate and instead ECM described below should be used.\n"
   ]
  },
  {
   "cell_type": "markdown",
   "metadata": {},
   "source": [
    "### Optimal Lag $p$"
   ]
  },
  {
   "cell_type": "markdown",
   "metadata": {},
   "source": [
    "This is determined by the lowest values of an information criterion such as:\n",
    "* Akaike Information Criterion (AIC):\n",
    "$$\n",
    "AIC = \\log | \\hat{\\Sigma} | + \\frac{2 k ^\\prime}{T}\n",
    "$$\n",
    "where $k^\\prime = n \\times (n\\times p+1)$ is the total number of variables in VAR(p)\n",
    "* Bayesian Information Criterion (also Schwarz Criterion):\n",
    "$$\n",
    "BIC = \\log | \\hat{\\Sigma} | + \\frac{k ^\\prime}{T} \\log(T)\n",
    "$$\n",
    "\n",
    "See more at [statstools](http://statsmodels.sourceforge.net/stable/vector_ar.html#lag-order-selection))"
   ]
  },
  {
   "cell_type": "markdown",
   "metadata": {},
   "source": [
    "### Stability Condition"
   ]
  },
  {
   "cell_type": "markdown",
   "metadata": {},
   "source": [
    "It requires for the eigenvalues of each relationship matrix $\\beta_p$ to be\n",
    "inside the unit circle ($ < 1$):\n",
    "\n",
    "$$\n",
    "| \\lambda I - \\beta | = 0\n",
    "$$\n",
    "\n",
    "[comment]: <> (The VAR system satisfies stability condition if $| \\lambda I - \\beta | = 0$. If $p>1$, coefficient for each lag $A_p$ si to be checked separately.)"
   ]
  },
  {
   "cell_type": "markdown",
   "metadata": {},
   "source": [
    "## Error Correction Model (ECM)\n",
    "\n",
    "The familiar linear regression:\n",
    "\n",
    "$$\n",
    "y_t = a + b x_t\n",
    "$$\n",
    "\n",
    "is only suitable to model _stationary_ variables. In general stock prices aren't stationary but their differences (returns) are. In this case we can go from the above model to one for returns:\n",
    "\n",
    "$$\n",
    "\\Delta y_t = \\beta_1 \\Delta x_t - (1-\\alpha) e_{t-1}\n",
    "$$\n",
    "\n",
    "This is known as the Error Correction Model (ECM)\n",
    "\n",
    "In addition, $\\hat{e}_t$ can be used to estimate the speed of mean-reversion and significance of stationarity $\\phi$ via the regression:\n",
    "$$\n",
    "\\Delta y_t = \\phi \\Delta x_t - (1-\\alpha) \\hat{e}_{t-1}\n",
    "$$"
   ]
  },
  {
   "cell_type": "markdown",
   "metadata": {},
   "source": [
    "## Other TS stuff\n",
    "\n",
    "* statstools: descriptive stats for ts - autocorrelation and partial autocorrelation function, periodogram"
   ]
  },
  {
   "cell_type": "markdown",
   "metadata": {},
   "source": [
    "# Cointegration"
   ]
  },
  {
   "cell_type": "markdown",
   "metadata": {},
   "source": [
    "## Engle-Granger Procedure"
   ]
  },
  {
   "cell_type": "markdown",
   "metadata": {},
   "source": [
    "When two series are cointegrated, a linear combination exists with weights $\\beta_c^\\prime$ that cancels the common stochastic process and produces a starionary spread $e_t = \\beta_c^\\prime Y_t$. The parameters of this linear combination may be estimated using linear (multivariate) regression:\n",
    "$$\n",
    "\\hat{e}_t = y_t - \\hat{b} x_t - \\hat{a}\n",
    "$$\n",
    "\n",
    "We can then test $\\hat{e}_t$ for unit root using ADF or similar to confirm thes spread is stationary."
   ]
  },
  {
   "cell_type": "markdown",
   "metadata": {},
   "source": [
    "## Augmented Dickey-Fuller Test"
   ]
  },
  {
   "cell_type": "markdown",
   "metadata": {},
   "source": [
    "The Augmented Dickey-Fuller (ADF) test can be used to see if a time series is stationary. The following model is used:\n",
    "$$\n",
    "\\Delta Y_t = \\phi Y_{t-1} + \\epsilon_t\n",
    "$$\n",
    "\n",
    "If $\\phi$ is found not significant, the time series has a unit root:\n",
    "$$\n",
    "\\phi = \\beta - 1 = 0 \\implies \\beta = 1 \\implies \\Delta Y_t = \\epsilon_t\n",
    "$$\n",
    "\n",
    "To increase the  significance, we can 'augment' the test by including  lags into the model $\\phi_k \\Delta Y_{t-k}$  or time-dependence $\\phi_t t$. \n",
    "\n",
    "\n",
    "A test statistic is constructed and compared to the Dickey-Fuller distribution critical values. The null hypothesis can be rejected or not based on this. \n",
    "\n",
    "----\n",
    "\n",
    "In the Dickey-Fuller test the null hypothesis is that the time series has unit root. The test regression is:\n",
    "\n",
    "$$\n",
    "\\Delta Y_t = C + \\phi Y_{t-1} + \\phi_1 \\Delta Y_{t-1} \n",
    "$$\n",
    "\n",
    "and if $\\phi$ is not significant the series has unit root. \n",
    "\n",
    "This is an improved version of the Dickey-Fuller test by using lagged differences $\\Delta y_{t-k}$:\n",
    "\n",
    "$$\n",
    "\\Delta Y_t = \\phi Y_{t-1} + \\sum^p_{k=1} \\phi_i \\Delta Y_{t-k} + \\epsilon_t\n",
    "$$\n",
    "\n",
    "Insignificant $\\phi$ means unit root for series $y_t$, i.e. $\\phi = \\beta -1 \\approx 0 \\to \\beta \\approx 1$.\n",
    "\n",
    "The critical value is taken from the empirically tabulated Dickey-Fuller distribution."
   ]
  },
  {
   "cell_type": "markdown",
   "metadata": {},
   "source": [
    "## Assessing quality of mean-reversion in cointegrated coefficient"
   ]
  },
  {
   "cell_type": "markdown",
   "metadata": {},
   "source": [
    "## Granger causality (determination of lead variable)\n",
    "\n",
    "* See statstools"
   ]
  },
  {
   "cell_type": "markdown",
   "metadata": {},
   "source": [
    "## Johansen procedure\n",
    "\n",
    "MLE for multivariate cointegration on asset price data (levels, not returns)"
   ]
  },
  {
   "cell_type": "markdown",
   "metadata": {},
   "source": [
    "# Trading strategies"
   ]
  },
  {
   "cell_type": "markdown",
   "metadata": {},
   "source": [
    "* trading around the spread $e_t$ where estimated weights $\\beta_i$ represent the position to take on each stock\n",
    "* optimised bounds give entre/exit signals, e.g. $\\mu_e \\pm 1\\sigma_e$. $\\sigma_e$ can be obtained from fitting to OU process or using optimisation \n",
    "* speed of mean-reversion in the spread $\\theta$ gives idea of profitability over time and can be converted to half-life (expected position holding time) as $\\tilde{\\tau} \\propto ln 2 / \\theta$\n",
    "* the dollar MtM P&L $\\Delta e_t = e_t - e_{t-1} $ is independent of its mean $\\mu_e$\n"
   ]
  },
  {
   "cell_type": "markdown",
   "metadata": {},
   "source": [
    "## Fitting to the OU process"
   ]
  },
  {
   "cell_type": "markdown",
   "metadata": {},
   "source": [
    "The OU process is represented by the SDE:\n",
    "$$\n",
    "dY_t = -\\theta(Y_t-\\mu)dt + \\sigma dX_t\n",
    "$$\n",
    "where $\\theta$ is the speed of mean-reversion, $\\mu$ is the equilibrium level and $\\sigma$ the diffusion. This has an analytical solution which consists of mean-reverting and autoregressive terms. In terms of the cointegrated spread this can be written as:\n",
    "\n",
    "$$\n",
    "e_t = C + B e_{t-1} + \\epsilon_t\n",
    "$$\n",
    "\n",
    "where $\\theta = -\\ln B/ \\tau$, $\\tau$ being the data frequency e.g. $1/252$ for daily data, and $\\mu_e = C / (1-B)$.\n",
    "\n",
    "Commonly trading bounds are defined as $\\mu_e \\pm \\sigma_{eq}$ where $\\sigma_{eq}$ is a scaled version of $\\sigma_{OU}$:\n",
    "$$\n",
    "\\sigma_{eq} \\approx \\sigma_{OU}/\\sqrt{2 \\theta}\n",
    "$$\n",
    "\n",
    "with \n",
    "\n",
    "$$\n",
    "\\sigma_{OU} = \\sqrt{\\frac{2 \\theta}{1-e^{-2 \\theta \\tau}} Var[e_t]}\n",
    "$$"
   ]
  }
 ],
 "metadata": {
  "kernelspec": {
   "display_name": "Python 2",
   "language": "python",
   "name": "python2"
  },
  "language_info": {
   "codemirror_mode": {
    "name": "ipython",
    "version": 2
   },
   "file_extension": ".py",
   "mimetype": "text/x-python",
   "name": "python",
   "nbconvert_exporter": "python",
   "pygments_lexer": "ipython2",
   "version": "2.7.12"
  }
 },
 "nbformat": 4,
 "nbformat_minor": 0
}

{
 "cells": [
  {
   "cell_type": "markdown",
   "metadata": {},
   "source": [
    "# Intro"
   ]
  },
  {
   "cell_type": "markdown",
   "metadata": {},
   "source": [
    "# Multivariate Regression \n",
    "\n",
    "Also known as 'generalised linear model', it generalises linear regression to multiple input variables (regressors) and $n$ observations. It  is best expressed in matrix form as:\n",
    "\n",
    "$$\n",
    "Y = X \\beta + \\epsilon\n",
    "$$\n",
    "\n",
    "where $Y$ is a vector representing the endogenous (dependent) variable, $X$ is a matrix representing the exogenous (independent) variables, $\\beta$ is the coefficients vector and $\\epsilon$ the residuals vector. \n",
    "\n",
    "The OLS method, which minimizes the sum of squared residuals via the Maximum Likelihood Estimation method (MLE), is used to estimate the parameters:\n",
    "\n",
    "$$\n",
    "\\begin{align}\n",
    "\\hat{\\beta} = (X^\\prime X)^{-1} X^\\prime Y \\\\\n",
    "\\hat{\\epsilon} = Y - X \\hat{\\beta}\n",
    "\\end{align}\n",
    "$$\n",
    "\n",
    "The covariance matrix of the residuals estimate is:\n",
    "\n",
    "$$\n",
    "\\hat{\\Sigma} = scale \\times  \\sum \\epsilon \\epsilon^\\prime\n",
    "$$\n",
    "where $scale = 1/ n$ using the MLE estimator or $scale= 1/ (n - kp)$ using the OLS estimator for a model with $k$ variables and $p$ lags.\n",
    "\n",
    "The covariance matrix for the coefficients is:\n",
    "\n",
    "$$\n",
    "(X X^\\prime)^{-1} \\otimes \\hat{\\Sigma}\n",
    "$$\n",
    "where $\\otimes$ is the _Kronecker product_. \n",
    "\n",
    "The Log Likelihood Function for OLS is:\n",
    "\n",
    "$$\n",
    "-\\frac{n}{2}\\log (2 \\pi) -\\frac{n}{2}\\log\\left(\\left|\\Sigma\\right|\\right) - \\frac{n}{2}\n",
    "$$\n",
    "\n",
    "The variance of the residuals and parameters are therefore the diagonal elements of the corresponding covariance matrices, from which the standard errors can be calculated. \n",
    "\n",
    "These are the conventions used in the script _analysis.py_. Additional mathematical details can be found in [wiki VAR](https://en.wikipedia.org/wiki/Vector_autoregression).\n",
    "\n",
    "The are several assumptions about the nature of the variables  in the model to hold. In particular, these should be _stationary_ and the $\\epsilon$ homoscedastic (with finite variance) and normally distributed.\n",
    "\n",
    "The main applications of the multivariate regression are:\n",
    "* Vector Autoregression Models - also known as VAR(p), these can be used to forecast, test for stationarity (e.g. ADF test) or model stationary series like returns\n",
    "* Error Correction Model - also known as ECM, these are used to model series which aren't stationary or that have stochastic trends, like prices"
   ]
  },
  {
   "cell_type": "markdown",
   "metadata": {
    "collapsed": true
   },
   "source": [
    "## Vector Autoregression - VAR(p)"
   ]
  },
  {
   "cell_type": "markdown",
   "metadata": {},
   "source": [
    "Also referred to as VAR(p) where $p$ is the lag order, the is simply a linear regression on a time series and its lagged (past) values:\n",
    "\n",
    "$$\n",
    "\\begin{align}\n",
    "Y_t = C + \\sum^{p}_{i=1} \\phi_i Y_{t-i} + \\epsilon_t \\\\\n",
    "\\end{align}\n",
    "$$\n",
    "\n",
    "where $\\phi_i$ are the parameters of the model, $C$ is a constant and $\\epsilon_t$ is white noise.\n",
    "\n",
    "Computationally, the model can be fitted in one go by using the OLS method described above with a special matrix formulation. Example code for this can be found in script _analysis.py_ in the project repository.\n",
    "\n",
    "As noted, being a linear regression, this model assumes the lagged series are stationary. For direct analysis of non-stationary series this isn't appropriate and instead the ECM method described below should be used.\n"
   ]
  },
  {
   "cell_type": "markdown",
   "metadata": {},
   "source": [
    "### Optimal Lag $p$"
   ]
  },
  {
   "cell_type": "markdown",
   "metadata": {},
   "source": [
    "This is determined by the lowest values of an information criterion such as:\n",
    "* Akaike Information Criterion (AIC):\n",
    "$$\n",
    "AIC = \\log | \\hat{\\Sigma} | + \\frac{2 k ^\\prime}{T}\n",
    "$$\n",
    "where $k^\\prime = n \\times (n\\times p+1)$ is the total number of variables in VAR(p)\n",
    "* Bayesian Information Criterion (also Schwarz Criterion):\n",
    "$$\n",
    "BIC = \\log | \\hat{\\Sigma} | + \\frac{k ^\\prime}{T} \\log(T)\n",
    "$$\n",
    "\n",
    "See more at [statstools](http://statsmodels.sourceforge.net/stable/vector_ar.html#lag-order-selection))"
   ]
  },
  {
   "cell_type": "markdown",
   "metadata": {},
   "source": [
    "### Stability Condition"
   ]
  },
  {
   "cell_type": "markdown",
   "metadata": {},
   "source": [
    "It requires for the eigenvalues of each relationship matrix $\\beta_p$ to be\n",
    "inside the unit circle ($ < 1$):\n",
    "\n",
    "$$\n",
    "| \\lambda I - \\beta | = 0\n",
    "$$\n",
    "\n",
    "[comment]: <> (The VAR system satisfies stability condition if $| \\lambda I - \\beta | = 0$. If $p>1$, coefficient for each lag $A_p$ si to be checked separately.)"
   ]
  },
  {
   "cell_type": "markdown",
   "metadata": {},
   "source": [
    "# Cointegration"
   ]
  },
  {
   "cell_type": "markdown",
   "metadata": {},
   "source": [
    "## Engle-Granger Procedure"
   ]
  },
  {
   "cell_type": "markdown",
   "metadata": {},
   "source": [
    "When two series are cointegrated, a linear combination exists with weights $\\beta_c^\\prime$ that cancels the common stochastic process and produces a starionary spread $e_t = \\beta_c^\\prime Y_t$. The parameters of this linear combination may be estimated using linear (multivariate) regression:\n",
    "$$\n",
    "\\hat{e}_t = y_t - \\hat{b} x_t - \\hat{a}\n",
    "$$\n",
    "\n",
    "We can then test $\\hat{e}_t$ for unit root using ADF or similar to confirm thes spread is stationary."
   ]
  },
  {
   "cell_type": "markdown",
   "metadata": {},
   "source": [
    "## Assessing quality of mean-reversion in cointegrated coefficient"
   ]
  },
  {
   "cell_type": "markdown",
   "metadata": {},
   "source": [
    "## Granger causality (determination of lead variable)\n",
    "\n",
    "* See statstools"
   ]
  },
  {
   "cell_type": "markdown",
   "metadata": {},
   "source": [
    "## Johansen procedure\n",
    "\n",
    "MLE for multivariate cointegration on asset price data (levels, not returns)"
   ]
  },
  {
   "cell_type": "markdown",
   "metadata": {},
   "source": [
    "# Trading strategies"
   ]
  },
  {
   "cell_type": "markdown",
   "metadata": {},
   "source": [
    "* trading around the spread $e_t$ where estimated weights $\\beta_i$ represent the position to take on each stock\n",
    "* optimised bounds give entre/exit signals, e.g. $\\mu_e \\pm 1\\sigma_e$. $\\sigma_e$ can be obtained from fitting to OU process or using optimisation \n",
    "* speed of mean-reversion in the spread $\\theta$ gives idea of profitability over time and can be converted to half-life (expected position holding time) as $\\tilde{\\tau} \\propto ln 2 / \\theta$\n",
    "* the dollar MtM P&L $\\Delta e_t = e_t - e_{t-1} $ is independent of its mean $\\mu_e$\n"
   ]
  },
  {
   "cell_type": "markdown",
   "metadata": {},
   "source": [
    "## Fitting to the OU process"
   ]
  },
  {
   "cell_type": "markdown",
   "metadata": {},
   "source": [
    "The OU process is represented by the SDE:\n",
    "$$\n",
    "dY_t = -\\theta(Y_t-\\mu)dt + \\sigma dW_t\n",
    "$$\n",
    "where $\\theta$ is the speed of mean-reversion, $\\mu$ is the equilibrium level and $\\sigma$ the diffusion. This has an analytical solution which consists of mean-reverting and autoregressive terms. In fact in a discrete setting this is a VAR(1) process. In terms of the cointegrated spread this can be written as:\n",
    "\n",
    "$$\n",
    "e_t = C + B e_{t-1} + \\epsilon_t\n",
    "$$\n",
    "\n",
    "where $\\theta = -\\ln B/ \\tau$, $\\tau$ being the data frequency e.g. $1/252$ for daily data, and $\\mu_e = C / (1-B)$.\n",
    "\n",
    "Commonly trading bounds are defined as $\\mu_e \\pm \\sigma_{eq}$ where $\\sigma_{eq}$ is a scaled version of $\\sigma_{OU}$:\n",
    "$$\n",
    "\\sigma_{eq} \\approx \\sigma_{OU}/\\sqrt{2 \\theta}\n",
    "$$\n",
    "\n",
    "with \n",
    "\n",
    "$$\n",
    "\\sigma_{OU} = \\sqrt{\\frac{2 \\theta}{1-e^{-2 \\theta \\tau}} Var[e_t]}\n",
    "$$"
   ]
  },
  {
   "cell_type": "markdown",
   "metadata": {},
   "source": [
    "# Other"
   ]
  },
  {
   "cell_type": "markdown",
   "metadata": {},
   "source": [
    "* statstools: descriptive stats for ts - autocorrelation and partial autocorrelation function, periodogram\n",
    "* price levels non-stationary\n",
    "* can't use correlation unless on returns or diffs\n",
    "* equilibrium (spread) can also be non-linear --> collinearity\n",
    "* coint vector $\\beta_{coint}$\n",
    "\n"
   ]
  },
  {
   "cell_type": "markdown",
   "metadata": {},
   "source": [
    "## Error Correction Model (ECM)\n",
    "\n",
    "The familiar linear regression:\n",
    "\n",
    "$$\n",
    "y_t = a + b x_t\n",
    "$$\n",
    "\n",
    "is only suitable to model _stationary_ variables. In general stock prices aren't stationary but their differences (returns) are. In this case we can go from the above model to one for returns:\n",
    "\n",
    "$$\n",
    "\\Delta y_t = \\beta_1 \\Delta x_t - (1-\\alpha) e_{t-1}\n",
    "$$\n",
    "\n",
    "This is known as the Error Correction Model (ECM)\n",
    "\n",
    "In addition, $\\hat{e}_t$ can be used to estimate the speed of mean-reversion and significance of stationarity $\\phi$ via the regression:\n",
    "$$\n",
    "\\Delta y_t = \\phi \\Delta x_t - (1-\\alpha) \\hat{e}_{t-1}\n",
    "$$"
   ]
  }
 ],
 "metadata": {
  "kernelspec": {
   "display_name": "Python 2",
   "language": "python",
   "name": "python2"
  },
  "language_info": {
   "codemirror_mode": {
    "name": "ipython",
    "version": 2
   },
   "file_extension": ".py",
   "mimetype": "text/x-python",
   "name": "python",
   "nbconvert_exporter": "python",
   "pygments_lexer": "ipython2",
   "version": "2.7.12"
  }
 },
 "nbformat": 4,
 "nbformat_minor": 0
}

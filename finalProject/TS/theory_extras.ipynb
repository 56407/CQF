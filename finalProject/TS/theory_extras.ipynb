{
 "cells": [
  {
   "cell_type": "markdown",
   "metadata": {},
   "source": [
    "# Multivariate Regression"
   ]
  },
  {
   "cell_type": "markdown",
   "metadata": {
    "collapsed": true
   },
   "source": [
    "## Vector Autoregression - VAR(p)"
   ]
  },
  {
   "cell_type": "markdown",
   "metadata": {},
   "source": [
    "Also referred to as VAR(p) where p is the lag order, the is simply a multivariate regression with past values (lags) as inputs:\n",
    "\n",
    "$$\n",
    "Y_t = C + A_1 Y_{t-1} + \\dots + A_{t-p}Y_{t-p} + \\epsilon_t\n",
    "$$\n",
    "\n",
    "$Y_t$ is a column vector (the time series data) and $A_p$ is an $n \\times n$ matrix of coefficients. Each of the $Y_t$ vector elements is estimated using the usual ordinary least squares (OLS) method. Computationally, this can be done in one go for all elements using matrix manipulation [ref].\n",
    "\n",
    "* Construct special matrices - the dependent ($Y$), explanatory ($Z$),  residuals ($\\epsilon$) and coefficient ($B$) matrices for $T = N_{obs}$:\n",
    "\n",
    "$$\n",
    "Y = BZ + \\epsilon\n",
    "$$\n",
    "\n",
    "* Generalising the OLS method to the multivariate case (MLE of the multivariate Normal Log Likelihood function) results in:\n",
    "\n",
    "$$\n",
    "\\begin{align}\n",
    "\\hat{B} = Y Z^\\prime (Z Z^\\prime)^{-1} \\\\\n",
    "\\hat{\\epsilon} = Y - \\hat{B} Z\n",
    "\\end{align}\n",
    "$$\n",
    "\n",
    "* The residual covariance matrix is also generalised to:\n",
    "$$\n",
    "\\hat{\\Sigma} = \\frac{1}{T} \\sum^T_{t=1} \\hat{\\epsilon} \\hat{\\epsilon}^\\prime\n",
    "$$\n",
    "\n",
    "\n",
    "Example code on how to contruct the above can be found in script XXXX.py in the Appendix."
   ]
  },
  {
   "cell_type": "markdown",
   "metadata": {},
   "source": [
    "### Optimal Lag Selection"
   ]
  },
  {
   "cell_type": "markdown",
   "metadata": {},
   "source": [
    "Optimal Lag $p$ is determined by the lowest values of AIC or BIC statistics constructed using penalised likelihood (see [statstools](http://statsmodels.sourceforge.net/stable/vector_ar.html#lag-order-selection)):\n",
    "* Akaike Information Criterion (AIC):\n",
    "$$\n",
    "AIC = \\log | \\hat{\\Sigma} | + \\frac{2 k ^\\prime}{T}\n",
    "$$\n",
    "where $k^\\prime = n \\times (n\\times p+1)$ is the total number of variables in VAR(p)\n",
    "* Bayesian Information Criterion (also Schwarz Criterion):\n",
    "$$\n",
    "BIC = \\log | \\hat{\\Sigma} | + \\frac{k ^\\prime}{T} \\log(T)\n",
    "$$"
   ]
  },
  {
   "cell_type": "markdown",
   "metadata": {},
   "source": [
    "### Stability Condition"
   ]
  },
  {
   "cell_type": "markdown",
   "metadata": {},
   "source": [
    "It requires for the eigenvalues of each relationship matrix $A_p$ to be\n",
    "inside the unit circle ($ < 1$). The VAR system satisfies stability condition if $| \\lambda I - A | = 0$. If $p>1$, coefficient for each lag $A_p$ si to be checked separately."
   ]
  },
  {
   "cell_type": "markdown",
   "metadata": {},
   "source": [
    "# Cointegration"
   ]
  },
  {
   "cell_type": "markdown",
   "metadata": {},
   "source": [
    "## Engle-Granger Procedure"
   ]
  },
  {
   "cell_type": "markdown",
   "metadata": {},
   "source": [
    "When two series are cointegrated, a linear combination exists so to cancel the common stochastic process and produce a starionary spread $e_t$. The parameters of this linear combination may be estimated using linear (multivariate) regression:\n",
    "$$\n",
    "\\hat{e}_t = y_t - \\hat{b} x_t - \\hat{a}\n",
    "$$\n",
    "\n",
    "We can then test $\\hat{e}_t$ for unit root using ADF or similar to confirm thes spread is stationary."
   ]
  },
  {
   "cell_type": "markdown",
   "metadata": {},
   "source": [
    "## Augmented Dickey-Fuller (ADF) Test"
   ]
  },
  {
   "cell_type": "markdown",
   "metadata": {},
   "source": [
    "This is an improved version of the Dickey-Fuller test by using lagged differences $\\Delta y_{t-k}$:\n",
    "\n",
    "$$\n",
    "\\Delta y_t = \\phi y_{t-1} + \\sum^p_{k=1} \\phi_i \\Delta y_{t-k} + \\epsilon_t\n",
    "$$\n",
    "\n",
    "Insignificant $\\phi$ means unit root for series $y_t$, i.e. $\\phi = \\beta -1 \\approx 0 \\to \\beta \\approx 1$.\n",
    "\n",
    "The critical value is taken from the empirically tabulated Dickey-Fuller distribution."
   ]
  },
  {
   "cell_type": "markdown",
   "metadata": {},
   "source": [
    "### ECM\n",
    "\n",
    "In addition, $\\hat{e}_t$ can be used to estimate the speed of mean-reversion and significance of stationarity $\\phi$ via the regression:\n",
    "$$\n",
    "\\Delta y_t = \\phi \\Delta x_t - (1-\\alpha) \\hat{e}_{t-1}\n",
    "$$"
   ]
  },
  {
   "cell_type": "markdown",
   "metadata": {},
   "source": [
    "## Assessing quality of mean-reversion in cointegrated coefficient"
   ]
  },
  {
   "cell_type": "markdown",
   "metadata": {},
   "source": [
    "## Determination of lead variable (Granger causality)"
   ]
  },
  {
   "cell_type": "markdown",
   "metadata": {},
   "source": [
    "## Johansen procedure\n",
    "\n",
    "MLE for multivariate cointegration on asset price data (levels, not returns)"
   ]
  },
  {
   "cell_type": "markdown",
   "metadata": {},
   "source": [
    "# Trading strategies"
   ]
  },
  {
   "cell_type": "markdown",
   "metadata": {},
   "source": [
    "* trading around the spread $e_t$ where estimated weights $\\beta_i$ represent the position to take on each stock\n",
    "* optimised bounds give entre/exit signals, e.g. $\\mu_e \\pm 1\\sigma_e$. $\\sigma_e$ can be obtained from fitting to OU process or using optimisation \n",
    "* speed of mean-reversion in the spread $\\theta$ gives idea of profitability over time and can be converted to half-life (expected position holding time) as $\\tilde{\\tau} \\propto ln 2 / \\theta$\n",
    "* the dollar MtM P&L $\\Delta e_t = e_t - e_{t-1} $ is independent of its mean $\\mu_e$\n"
   ]
  },
  {
   "cell_type": "markdown",
   "metadata": {},
   "source": [
    "## Fitting to the OU process"
   ]
  },
  {
   "cell_type": "markdown",
   "metadata": {},
   "source": [
    "The OU process is represented by the SDE:\n",
    "$$\n",
    "dY_t = -\\theta(Y_t-\\mu)dt + \\sigma dX_t\n",
    "$$\n",
    "where $\\theta$ is the speed of mean-reversion, $\\mu$ is the equilibrium level and $\\sigma$ the diffusion. This has an analytical solution which consists of mean-reverting and autoregressive terms. In terms of the cointegrated spread this can be written as:\n",
    "\n",
    "$$\n",
    "e_t = C + B e_{t-1} + \\epsilon_t\n",
    "$$\n",
    "\n",
    "where $\\theta = -\\ln B/ \\tau$, $\\tau$ being the data frequency e.g. $1/252$ for daily data, and $\\mu_e = C / (1-B)$.\n",
    "\n",
    "Commonly trading bounds are defined as $\\mu_e \\pm \\sigma_{eq}$ where $\\sigma_{eq}$ is a scaled version of $\\sigma_{OU}$:\n",
    "$$\n",
    "\\sigma_{eq} \\approx \\sigma_{OU}/\\sqrt{2 \\theta}\n",
    "$$\n",
    "\n",
    "with \n",
    "\n",
    "$$\n",
    "\\sigma_{OU} = \\sqrt{\\frac{2 \\theta}{1-e^{-2 \\theta \\tau}} Var[e_t]}\n",
    "$$"
   ]
  }
 ],
 "metadata": {
  "kernelspec": {
   "display_name": "Python 2",
   "language": "python",
   "name": "python2"
  },
  "language_info": {
   "codemirror_mode": {
    "name": "ipython",
    "version": 2
   },
   "file_extension": ".py",
   "mimetype": "text/x-python",
   "name": "python",
   "nbconvert_exporter": "python",
   "pygments_lexer": "ipython2",
   "version": "2.7.11"
  }
 },
 "nbformat": 4,
 "nbformat_minor": 0
}
